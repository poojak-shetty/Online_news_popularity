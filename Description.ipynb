{
  "nbformat": 4,
  "nbformat_minor": 0,
  "metadata": {
    "colab": {
      "name": "Description.ipynb",
      "provenance": [],
      "collapsed_sections": [],
      "authorship_tag": "ABX9TyNIKVPTWIX1lMgX8Sy719iK",
      "include_colab_link": true
    },
    "kernelspec": {
      "name": "python3",
      "display_name": "Python 3"
    }
  },
  "cells": [
    {
      "cell_type": "markdown",
      "metadata": {
        "id": "view-in-github",
        "colab_type": "text"
      },
      "source": [
        "<a href=\"https://colab.research.google.com/github/poojak-shetty/Online_news_popularity/blob/master/Description.ipynb\" target=\"_parent\"><img src=\"https://colab.research.google.com/assets/colab-badge.svg\" alt=\"Open In Colab\"/></a>"
      ]
    },
    {
      "cell_type": "markdown",
      "metadata": {
        "id": "Jcm_gGRHaq_8",
        "colab_type": "text"
      },
      "source": [
        "## **CAPSTONE-2 PROJECT**\n",
        "\n",
        "*For the capstone 2 project based on ML, I have chosen the ONLINE NEWS POPULARITY DATASET from UCI.*"
      ]
    },
    {
      "cell_type": "markdown",
      "metadata": {
        "id": "CkVAm0FNcYM0",
        "colab_type": "text"
      },
      "source": [
        "The link to the dataset is [ONLINE NEWS POPULARITY DATASET](https://archive.ics.uci.edu/ml/datasets/Online+News+Popularity)"
      ]
    },
    {
      "cell_type": "markdown",
      "metadata": {
        "id": "pwprR2bNdTpF",
        "colab_type": "text"
      },
      "source": [
        "Abstract:\n",
        "\n",
        "This dataset summarizes a heterogeneous set of features about articles published by Mashable in a period of two years. The goal is to predict the number of shares in social networks (popularity)."
      ]
    },
    {
      "cell_type": "markdown",
      "metadata": {
        "id": "U6KgLWjUeyKj",
        "colab_type": "text"
      },
      "source": [
        "**What is online news popularity?**\n",
        "![Image](https://drive.google.com/uc?id=1wxjRaCUlxLG_gYQDQTyCkI7HmH4RAHuR)\n",
        "\n",
        "With the expansion of the Internet, more and more people enjoy reading and sharing online news articles. The number of shares under a news article indicates how popular the news is. In this\n",
        "project, we intend to find the best model and set of feature to predict the popularity of online news,using machine learning techniques. Our data comes from Mashable, a well-known online news website.Their performances are recorded and compared.\n",
        "\n",
        "In this information era, reading and sharing news have become the center of people’s entertainment lives. Therefore, it would be greatly helpful if we could accurately predict the popularity of news\n",
        "prior to its publication, for social media workers(authors, advertisers, etc)."
      ]
    },
    {
      "cell_type": "markdown",
      "metadata": {
        "id": "fipB8wUOoKk0",
        "colab_type": "text"
      },
      "source": [
        "CONTENT\n",
        "\n",
        "The project relies on the accuracy.For a news to be popular,alot of aspects has to be counted.Be it when the news was published or on what topic the discussion is happening like ENTERTAINMENT,TECH,SPORTS etc.A news might get popular on any such basis and the companies shares will increase drastically which finally concludes by saing if the news is popular or not popular.Hence,we are using this dataset to predict if the news is popular or not.Clearly,this is a classification problem.\n",
        "\n",
        "We are using largely and recently collected dataset with over 39000 articles from Mashable website, to first select informative features and then analyze and compare the performance of several machine learning algorithms.Using different machine learning algorithms we intend to get the following results.\n",
        "\n",
        "Results: \n",
        "\n",
        "-- Experiments with different models.\n",
        "\n",
        "-- Predicted attribute: online news popularity (boolean)"
      ]
    }
  ]
}