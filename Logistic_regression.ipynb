{
  "nbformat": 4,
  "nbformat_minor": 0,
  "metadata": {
    "colab": {
      "name": "Logistic regression.ipynb",
      "provenance": [],
      "collapsed_sections": [],
      "authorship_tag": "ABX9TyPy44mfwQoGi6Jms17s9ivu",
      "include_colab_link": true
    },
    "kernelspec": {
      "name": "python3",
      "display_name": "Python 3"
    }
  },
  "cells": [
    {
      "cell_type": "markdown",
      "metadata": {
        "id": "view-in-github",
        "colab_type": "text"
      },
      "source": [
        "<a href=\"https://colab.research.google.com/github/poojak-shetty/Online_news_popularity/blob/master/Logistic_regression.ipynb\" target=\"_parent\"><img src=\"https://colab.research.google.com/assets/colab-badge.svg\" alt=\"Open In Colab\"/></a>"
      ]
    },
    {
      "cell_type": "markdown",
      "metadata": {
        "id": "doSxLDCPaLhA",
        "colab_type": "text"
      },
      "source": [
        "We have already cleaned our dataset and have kept only necessary columns.Let's now see which algorithm gives the best accuracy."
      ]
    },
    {
      "cell_type": "code",
      "metadata": {
        "id": "73OEOsIRkV3l",
        "colab_type": "code",
        "colab": {}
      },
      "source": [
        "import pandas as pd\n",
        "import numpy as np\n",
        "import matplotlib.pyplot as plt\n",
        "from sklearn.model_selection import train_test_split\n",
        "from sklearn.decomposition import PCA\n",
        "from sklearn.preprocessing import OneHotEncoder, MinMaxScaler\n",
        "import seaborn as sns\n",
        "#importing necessary libraries is a common step"
      ],
      "execution_count": 0,
      "outputs": []
    },
    {
      "cell_type": "code",
      "metadata": {
        "id": "NssscF-WbjlH",
        "colab_type": "code",
        "colab": {}
      },
      "source": [
        "df = pd.read_csv('Cleaned dataset.csv')"
      ],
      "execution_count": 0,
      "outputs": []
    },
    {
      "cell_type": "code",
      "metadata": {
        "id": "DljeWIvQb0U4",
        "colab_type": "code",
        "colab": {
          "base_uri": "https://localhost:8080/",
          "height": 438
        },
        "outputId": "3a50fa2a-6342-4771-cc83-75ff3a6a02f8"
      },
      "source": [
        "df"
      ],
      "execution_count": 126,
      "outputs": [
        {
          "output_type": "execute_result",
          "data": {
            "text/html": [
              "<div>\n",
              "<style scoped>\n",
              "    .dataframe tbody tr th:only-of-type {\n",
              "        vertical-align: middle;\n",
              "    }\n",
              "\n",
              "    .dataframe tbody tr th {\n",
              "        vertical-align: top;\n",
              "    }\n",
              "\n",
              "    .dataframe thead th {\n",
              "        text-align: right;\n",
              "    }\n",
              "</style>\n",
              "<table border=\"1\" class=\"dataframe\">\n",
              "  <thead>\n",
              "    <tr style=\"text-align: right;\">\n",
              "      <th></th>\n",
              "      <th>Unnamed: 0</th>\n",
              "      <th>LDA_02</th>\n",
              "      <th>data_channel_is_world</th>\n",
              "      <th>data_channel_is_entertainment</th>\n",
              "      <th>LDA_01</th>\n",
              "      <th>rate_negative_words</th>\n",
              "      <th>n_tokens_title</th>\n",
              "      <th>weekday_is_wednesday</th>\n",
              "      <th>weekday_is_tuesday</th>\n",
              "      <th>kw_max_max</th>\n",
              "      <th>average_token_length</th>\n",
              "      <th>weekday_is_thursday</th>\n",
              "      <th>global_rate_negative_words</th>\n",
              "      <th>min_positive_polarity</th>\n",
              "      <th>weekday_is_monday</th>\n",
              "      <th>shares</th>\n",
              "    </tr>\n",
              "  </thead>\n",
              "  <tbody>\n",
              "    <tr>\n",
              "      <th>0</th>\n",
              "      <td>0</td>\n",
              "      <td>0.040005</td>\n",
              "      <td>0.0</td>\n",
              "      <td>1.0</td>\n",
              "      <td>0.378279</td>\n",
              "      <td>0.230769</td>\n",
              "      <td>12.0</td>\n",
              "      <td>0.0</td>\n",
              "      <td>0.0</td>\n",
              "      <td>0.0</td>\n",
              "      <td>4.680365</td>\n",
              "      <td>0.0</td>\n",
              "      <td>0.013699</td>\n",
              "      <td>0.100000</td>\n",
              "      <td>1.0</td>\n",
              "      <td>0</td>\n",
              "    </tr>\n",
              "    <tr>\n",
              "      <th>1</th>\n",
              "      <td>1</td>\n",
              "      <td>0.050096</td>\n",
              "      <td>0.0</td>\n",
              "      <td>0.0</td>\n",
              "      <td>0.050047</td>\n",
              "      <td>0.266667</td>\n",
              "      <td>9.0</td>\n",
              "      <td>0.0</td>\n",
              "      <td>0.0</td>\n",
              "      <td>0.0</td>\n",
              "      <td>4.913725</td>\n",
              "      <td>0.0</td>\n",
              "      <td>0.015686</td>\n",
              "      <td>0.033333</td>\n",
              "      <td>1.0</td>\n",
              "      <td>0</td>\n",
              "    </tr>\n",
              "    <tr>\n",
              "      <th>2</th>\n",
              "      <td>2</td>\n",
              "      <td>0.033351</td>\n",
              "      <td>0.0</td>\n",
              "      <td>0.0</td>\n",
              "      <td>0.033334</td>\n",
              "      <td>0.142857</td>\n",
              "      <td>9.0</td>\n",
              "      <td>0.0</td>\n",
              "      <td>0.0</td>\n",
              "      <td>0.0</td>\n",
              "      <td>4.393365</td>\n",
              "      <td>0.0</td>\n",
              "      <td>0.009479</td>\n",
              "      <td>0.100000</td>\n",
              "      <td>1.0</td>\n",
              "      <td>1</td>\n",
              "    </tr>\n",
              "    <tr>\n",
              "      <th>3</th>\n",
              "      <td>3</td>\n",
              "      <td>0.494651</td>\n",
              "      <td>0.0</td>\n",
              "      <td>1.0</td>\n",
              "      <td>0.419300</td>\n",
              "      <td>0.333333</td>\n",
              "      <td>9.0</td>\n",
              "      <td>0.0</td>\n",
              "      <td>0.0</td>\n",
              "      <td>0.0</td>\n",
              "      <td>4.404896</td>\n",
              "      <td>0.0</td>\n",
              "      <td>0.020716</td>\n",
              "      <td>0.136364</td>\n",
              "      <td>1.0</td>\n",
              "      <td>0</td>\n",
              "    </tr>\n",
              "    <tr>\n",
              "      <th>4</th>\n",
              "      <td>4</td>\n",
              "      <td>0.028575</td>\n",
              "      <td>0.0</td>\n",
              "      <td>0.0</td>\n",
              "      <td>0.028794</td>\n",
              "      <td>0.139785</td>\n",
              "      <td>13.0</td>\n",
              "      <td>0.0</td>\n",
              "      <td>0.0</td>\n",
              "      <td>0.0</td>\n",
              "      <td>4.682836</td>\n",
              "      <td>0.0</td>\n",
              "      <td>0.012127</td>\n",
              "      <td>0.033333</td>\n",
              "      <td>1.0</td>\n",
              "      <td>0</td>\n",
              "    </tr>\n",
              "    <tr>\n",
              "      <th>...</th>\n",
              "      <td>...</td>\n",
              "      <td>...</td>\n",
              "      <td>...</td>\n",
              "      <td>...</td>\n",
              "      <td>...</td>\n",
              "      <td>...</td>\n",
              "      <td>...</td>\n",
              "      <td>...</td>\n",
              "      <td>...</td>\n",
              "      <td>...</td>\n",
              "      <td>...</td>\n",
              "      <td>...</td>\n",
              "      <td>...</td>\n",
              "      <td>...</td>\n",
              "      <td>...</td>\n",
              "      <td>...</td>\n",
              "    </tr>\n",
              "    <tr>\n",
              "      <th>39639</th>\n",
              "      <td>39639</td>\n",
              "      <td>0.151701</td>\n",
              "      <td>0.0</td>\n",
              "      <td>0.0</td>\n",
              "      <td>0.025001</td>\n",
              "      <td>0.277778</td>\n",
              "      <td>11.0</td>\n",
              "      <td>1.0</td>\n",
              "      <td>0.0</td>\n",
              "      <td>843300.0</td>\n",
              "      <td>4.523121</td>\n",
              "      <td>0.0</td>\n",
              "      <td>0.014451</td>\n",
              "      <td>0.100000</td>\n",
              "      <td>0.0</td>\n",
              "      <td>1</td>\n",
              "    </tr>\n",
              "    <tr>\n",
              "      <th>39640</th>\n",
              "      <td>39640</td>\n",
              "      <td>0.231866</td>\n",
              "      <td>0.0</td>\n",
              "      <td>0.0</td>\n",
              "      <td>0.028575</td>\n",
              "      <td>0.187500</td>\n",
              "      <td>12.0</td>\n",
              "      <td>1.0</td>\n",
              "      <td>0.0</td>\n",
              "      <td>843300.0</td>\n",
              "      <td>4.405488</td>\n",
              "      <td>0.0</td>\n",
              "      <td>0.009146</td>\n",
              "      <td>0.136364</td>\n",
              "      <td>0.0</td>\n",
              "      <td>1</td>\n",
              "    </tr>\n",
              "    <tr>\n",
              "      <th>39641</th>\n",
              "      <td>39641</td>\n",
              "      <td>0.025207</td>\n",
              "      <td>0.0</td>\n",
              "      <td>0.0</td>\n",
              "      <td>0.025025</td>\n",
              "      <td>0.423077</td>\n",
              "      <td>10.0</td>\n",
              "      <td>1.0</td>\n",
              "      <td>0.0</td>\n",
              "      <td>843300.0</td>\n",
              "      <td>5.076923</td>\n",
              "      <td>0.0</td>\n",
              "      <td>0.024887</td>\n",
              "      <td>0.136364</td>\n",
              "      <td>0.0</td>\n",
              "      <td>1</td>\n",
              "    </tr>\n",
              "    <tr>\n",
              "      <th>39642</th>\n",
              "      <td>39642</td>\n",
              "      <td>0.839987</td>\n",
              "      <td>1.0</td>\n",
              "      <td>0.0</td>\n",
              "      <td>0.040003</td>\n",
              "      <td>0.533333</td>\n",
              "      <td>6.0</td>\n",
              "      <td>1.0</td>\n",
              "      <td>0.0</td>\n",
              "      <td>843300.0</td>\n",
              "      <td>4.975073</td>\n",
              "      <td>0.0</td>\n",
              "      <td>0.023460</td>\n",
              "      <td>0.062500</td>\n",
              "      <td>0.0</td>\n",
              "      <td>0</td>\n",
              "    </tr>\n",
              "    <tr>\n",
              "      <th>39643</th>\n",
              "      <td>39643</td>\n",
              "      <td>0.050000</td>\n",
              "      <td>0.0</td>\n",
              "      <td>1.0</td>\n",
              "      <td>0.799339</td>\n",
              "      <td>0.166667</td>\n",
              "      <td>10.0</td>\n",
              "      <td>1.0</td>\n",
              "      <td>0.0</td>\n",
              "      <td>843300.0</td>\n",
              "      <td>4.471338</td>\n",
              "      <td>0.0</td>\n",
              "      <td>0.012739</td>\n",
              "      <td>0.100000</td>\n",
              "      <td>0.0</td>\n",
              "      <td>0</td>\n",
              "    </tr>\n",
              "  </tbody>\n",
              "</table>\n",
              "<p>39644 rows × 16 columns</p>\n",
              "</div>"
            ],
            "text/plain": [
              "       Unnamed: 0    LDA_02  ...   weekday_is_monday   shares\n",
              "0               0  0.040005  ...                 1.0        0\n",
              "1               1  0.050096  ...                 1.0        0\n",
              "2               2  0.033351  ...                 1.0        1\n",
              "3               3  0.494651  ...                 1.0        0\n",
              "4               4  0.028575  ...                 1.0        0\n",
              "...           ...       ...  ...                 ...      ...\n",
              "39639       39639  0.151701  ...                 0.0        1\n",
              "39640       39640  0.231866  ...                 0.0        1\n",
              "39641       39641  0.025207  ...                 0.0        1\n",
              "39642       39642  0.839987  ...                 0.0        0\n",
              "39643       39643  0.050000  ...                 0.0        0\n",
              "\n",
              "[39644 rows x 16 columns]"
            ]
          },
          "metadata": {
            "tags": []
          },
          "execution_count": 126
        }
      ]
    },
    {
      "cell_type": "markdown",
      "metadata": {
        "id": "AD-oFPVlb-nu",
        "colab_type": "text"
      },
      "source": [
        "In this csv file we have one more column named 'Unnamed:0' which occurs because its the index column in the dataset which we have saved.So,we need to remove that column."
      ]
    },
    {
      "cell_type": "code",
      "metadata": {
        "id": "NSuhdT30b1P1",
        "colab_type": "code",
        "colab": {}
      },
      "source": [
        "df=df.loc[:, ~df.columns.str.match('Unnamed')]"
      ],
      "execution_count": 0,
      "outputs": []
    },
    {
      "cell_type": "code",
      "metadata": {
        "id": "8yFOfTe0cqci",
        "colab_type": "code",
        "colab": {
          "base_uri": "https://localhost:8080/",
          "height": 422
        },
        "outputId": "1896fd52-967d-4804-9607-b7e35a9542b6"
      },
      "source": [
        "df"
      ],
      "execution_count": 128,
      "outputs": [
        {
          "output_type": "execute_result",
          "data": {
            "text/html": [
              "<div>\n",
              "<style scoped>\n",
              "    .dataframe tbody tr th:only-of-type {\n",
              "        vertical-align: middle;\n",
              "    }\n",
              "\n",
              "    .dataframe tbody tr th {\n",
              "        vertical-align: top;\n",
              "    }\n",
              "\n",
              "    .dataframe thead th {\n",
              "        text-align: right;\n",
              "    }\n",
              "</style>\n",
              "<table border=\"1\" class=\"dataframe\">\n",
              "  <thead>\n",
              "    <tr style=\"text-align: right;\">\n",
              "      <th></th>\n",
              "      <th>LDA_02</th>\n",
              "      <th>data_channel_is_world</th>\n",
              "      <th>data_channel_is_entertainment</th>\n",
              "      <th>LDA_01</th>\n",
              "      <th>rate_negative_words</th>\n",
              "      <th>n_tokens_title</th>\n",
              "      <th>weekday_is_wednesday</th>\n",
              "      <th>weekday_is_tuesday</th>\n",
              "      <th>kw_max_max</th>\n",
              "      <th>average_token_length</th>\n",
              "      <th>weekday_is_thursday</th>\n",
              "      <th>global_rate_negative_words</th>\n",
              "      <th>min_positive_polarity</th>\n",
              "      <th>weekday_is_monday</th>\n",
              "      <th>shares</th>\n",
              "    </tr>\n",
              "  </thead>\n",
              "  <tbody>\n",
              "    <tr>\n",
              "      <th>0</th>\n",
              "      <td>0.040005</td>\n",
              "      <td>0.0</td>\n",
              "      <td>1.0</td>\n",
              "      <td>0.378279</td>\n",
              "      <td>0.230769</td>\n",
              "      <td>12.0</td>\n",
              "      <td>0.0</td>\n",
              "      <td>0.0</td>\n",
              "      <td>0.0</td>\n",
              "      <td>4.680365</td>\n",
              "      <td>0.0</td>\n",
              "      <td>0.013699</td>\n",
              "      <td>0.100000</td>\n",
              "      <td>1.0</td>\n",
              "      <td>0</td>\n",
              "    </tr>\n",
              "    <tr>\n",
              "      <th>1</th>\n",
              "      <td>0.050096</td>\n",
              "      <td>0.0</td>\n",
              "      <td>0.0</td>\n",
              "      <td>0.050047</td>\n",
              "      <td>0.266667</td>\n",
              "      <td>9.0</td>\n",
              "      <td>0.0</td>\n",
              "      <td>0.0</td>\n",
              "      <td>0.0</td>\n",
              "      <td>4.913725</td>\n",
              "      <td>0.0</td>\n",
              "      <td>0.015686</td>\n",
              "      <td>0.033333</td>\n",
              "      <td>1.0</td>\n",
              "      <td>0</td>\n",
              "    </tr>\n",
              "    <tr>\n",
              "      <th>2</th>\n",
              "      <td>0.033351</td>\n",
              "      <td>0.0</td>\n",
              "      <td>0.0</td>\n",
              "      <td>0.033334</td>\n",
              "      <td>0.142857</td>\n",
              "      <td>9.0</td>\n",
              "      <td>0.0</td>\n",
              "      <td>0.0</td>\n",
              "      <td>0.0</td>\n",
              "      <td>4.393365</td>\n",
              "      <td>0.0</td>\n",
              "      <td>0.009479</td>\n",
              "      <td>0.100000</td>\n",
              "      <td>1.0</td>\n",
              "      <td>1</td>\n",
              "    </tr>\n",
              "    <tr>\n",
              "      <th>3</th>\n",
              "      <td>0.494651</td>\n",
              "      <td>0.0</td>\n",
              "      <td>1.0</td>\n",
              "      <td>0.419300</td>\n",
              "      <td>0.333333</td>\n",
              "      <td>9.0</td>\n",
              "      <td>0.0</td>\n",
              "      <td>0.0</td>\n",
              "      <td>0.0</td>\n",
              "      <td>4.404896</td>\n",
              "      <td>0.0</td>\n",
              "      <td>0.020716</td>\n",
              "      <td>0.136364</td>\n",
              "      <td>1.0</td>\n",
              "      <td>0</td>\n",
              "    </tr>\n",
              "    <tr>\n",
              "      <th>4</th>\n",
              "      <td>0.028575</td>\n",
              "      <td>0.0</td>\n",
              "      <td>0.0</td>\n",
              "      <td>0.028794</td>\n",
              "      <td>0.139785</td>\n",
              "      <td>13.0</td>\n",
              "      <td>0.0</td>\n",
              "      <td>0.0</td>\n",
              "      <td>0.0</td>\n",
              "      <td>4.682836</td>\n",
              "      <td>0.0</td>\n",
              "      <td>0.012127</td>\n",
              "      <td>0.033333</td>\n",
              "      <td>1.0</td>\n",
              "      <td>0</td>\n",
              "    </tr>\n",
              "    <tr>\n",
              "      <th>...</th>\n",
              "      <td>...</td>\n",
              "      <td>...</td>\n",
              "      <td>...</td>\n",
              "      <td>...</td>\n",
              "      <td>...</td>\n",
              "      <td>...</td>\n",
              "      <td>...</td>\n",
              "      <td>...</td>\n",
              "      <td>...</td>\n",
              "      <td>...</td>\n",
              "      <td>...</td>\n",
              "      <td>...</td>\n",
              "      <td>...</td>\n",
              "      <td>...</td>\n",
              "      <td>...</td>\n",
              "    </tr>\n",
              "    <tr>\n",
              "      <th>39639</th>\n",
              "      <td>0.151701</td>\n",
              "      <td>0.0</td>\n",
              "      <td>0.0</td>\n",
              "      <td>0.025001</td>\n",
              "      <td>0.277778</td>\n",
              "      <td>11.0</td>\n",
              "      <td>1.0</td>\n",
              "      <td>0.0</td>\n",
              "      <td>843300.0</td>\n",
              "      <td>4.523121</td>\n",
              "      <td>0.0</td>\n",
              "      <td>0.014451</td>\n",
              "      <td>0.100000</td>\n",
              "      <td>0.0</td>\n",
              "      <td>1</td>\n",
              "    </tr>\n",
              "    <tr>\n",
              "      <th>39640</th>\n",
              "      <td>0.231866</td>\n",
              "      <td>0.0</td>\n",
              "      <td>0.0</td>\n",
              "      <td>0.028575</td>\n",
              "      <td>0.187500</td>\n",
              "      <td>12.0</td>\n",
              "      <td>1.0</td>\n",
              "      <td>0.0</td>\n",
              "      <td>843300.0</td>\n",
              "      <td>4.405488</td>\n",
              "      <td>0.0</td>\n",
              "      <td>0.009146</td>\n",
              "      <td>0.136364</td>\n",
              "      <td>0.0</td>\n",
              "      <td>1</td>\n",
              "    </tr>\n",
              "    <tr>\n",
              "      <th>39641</th>\n",
              "      <td>0.025207</td>\n",
              "      <td>0.0</td>\n",
              "      <td>0.0</td>\n",
              "      <td>0.025025</td>\n",
              "      <td>0.423077</td>\n",
              "      <td>10.0</td>\n",
              "      <td>1.0</td>\n",
              "      <td>0.0</td>\n",
              "      <td>843300.0</td>\n",
              "      <td>5.076923</td>\n",
              "      <td>0.0</td>\n",
              "      <td>0.024887</td>\n",
              "      <td>0.136364</td>\n",
              "      <td>0.0</td>\n",
              "      <td>1</td>\n",
              "    </tr>\n",
              "    <tr>\n",
              "      <th>39642</th>\n",
              "      <td>0.839987</td>\n",
              "      <td>1.0</td>\n",
              "      <td>0.0</td>\n",
              "      <td>0.040003</td>\n",
              "      <td>0.533333</td>\n",
              "      <td>6.0</td>\n",
              "      <td>1.0</td>\n",
              "      <td>0.0</td>\n",
              "      <td>843300.0</td>\n",
              "      <td>4.975073</td>\n",
              "      <td>0.0</td>\n",
              "      <td>0.023460</td>\n",
              "      <td>0.062500</td>\n",
              "      <td>0.0</td>\n",
              "      <td>0</td>\n",
              "    </tr>\n",
              "    <tr>\n",
              "      <th>39643</th>\n",
              "      <td>0.050000</td>\n",
              "      <td>0.0</td>\n",
              "      <td>1.0</td>\n",
              "      <td>0.799339</td>\n",
              "      <td>0.166667</td>\n",
              "      <td>10.0</td>\n",
              "      <td>1.0</td>\n",
              "      <td>0.0</td>\n",
              "      <td>843300.0</td>\n",
              "      <td>4.471338</td>\n",
              "      <td>0.0</td>\n",
              "      <td>0.012739</td>\n",
              "      <td>0.100000</td>\n",
              "      <td>0.0</td>\n",
              "      <td>0</td>\n",
              "    </tr>\n",
              "  </tbody>\n",
              "</table>\n",
              "<p>39644 rows × 15 columns</p>\n",
              "</div>"
            ],
            "text/plain": [
              "         LDA_02   data_channel_is_world  ...   weekday_is_monday   shares\n",
              "0      0.040005                     0.0  ...                 1.0        0\n",
              "1      0.050096                     0.0  ...                 1.0        0\n",
              "2      0.033351                     0.0  ...                 1.0        1\n",
              "3      0.494651                     0.0  ...                 1.0        0\n",
              "4      0.028575                     0.0  ...                 1.0        0\n",
              "...         ...                     ...  ...                 ...      ...\n",
              "39639  0.151701                     0.0  ...                 0.0        1\n",
              "39640  0.231866                     0.0  ...                 0.0        1\n",
              "39641  0.025207                     0.0  ...                 0.0        1\n",
              "39642  0.839987                     1.0  ...                 0.0        0\n",
              "39643  0.050000                     0.0  ...                 0.0        0\n",
              "\n",
              "[39644 rows x 15 columns]"
            ]
          },
          "metadata": {
            "tags": []
          },
          "execution_count": 128
        }
      ]
    },
    {
      "cell_type": "markdown",
      "metadata": {
        "id": "Xt-daxkXdcL3",
        "colab_type": "text"
      },
      "source": [
        "# **LOGISTIC REGRESSION**"
      ]
    },
    {
      "cell_type": "markdown",
      "metadata": {
        "id": "MgZ6nCRG8uuV",
        "colab_type": "text"
      },
      "source": [
        "Sigmoid function\n",
        "\n",
        "A sigmoid function is a mathematical function having a characteristic \"S\"-shaped curve.\n",
        "\n",
        "A sigmoid function is a type of activation function, and more specifically defined as a squashing function. Squashing functions limit the output to a range between 0 and 1, making these functions useful in the prediction of probabilities."
      ]
    },
    {
      "cell_type": "code",
      "metadata": {
        "id": "zbcw4eQocrUz",
        "colab_type": "code",
        "colab": {}
      },
      "source": [
        "#Sigmoid function\n",
        "def sigmoid(z):\n",
        "  return 1 / (1 + np.exp(-z))"
      ],
      "execution_count": 0,
      "outputs": []
    },
    {
      "cell_type": "markdown",
      "metadata": {
        "id": "0ZFDkikq84Mz",
        "colab_type": "text"
      },
      "source": [
        "Error function\n",
        "\n",
        "Calculates error using the cost function."
      ]
    },
    {
      "cell_type": "code",
      "metadata": {
        "id": "Hp3y456fgWkX",
        "colab_type": "code",
        "colab": {}
      },
      "source": [
        "#Error function\n",
        "def error(a,b,x,y):\n",
        "  error = 0\n",
        "  m = len(y)\n",
        "  for i in range(m):\n",
        "      f = (a * x[i]) + b\n",
        "      error += -y[i] * np.log(sigmoid(f)) - (1-y[i]) * np.log(1-sigmoid(f))\n",
        "  return error/m"
      ],
      "execution_count": 0,
      "outputs": []
    },
    {
      "cell_type": "markdown",
      "metadata": {
        "id": "H0iTsaE59EjE",
        "colab_type": "text"
      },
      "source": [
        "Step gradient function reduces the error by going towards minima in steps this is done by analising the slope in each step.\n",
        "\n"
      ]
    },
    {
      "cell_type": "code",
      "metadata": {
        "id": "-bFkgoJfgkbN",
        "colab_type": "code",
        "colab": {}
      },
      "source": [
        "#Step gradient function\n",
        "def step_gradient(a,b,x,y,learning_rate):\n",
        "    grad_a = 0\n",
        "    grad_b = 0\n",
        "    m = len(x)\n",
        "    for i in range(m):\n",
        "        f = (a * x[i]) + b\n",
        "        grad_a += (sigmoid(f) - y[i]) * x[i]\n",
        "        grad_b += (sigmoid(f) - y[i])\n",
        "        \n",
        "    a = a - (grad_a * learning_rate)\n",
        "    b = b - (grad_b * learning_rate)\n",
        "    return a,b"
      ],
      "execution_count": 0,
      "outputs": []
    },
    {
      "cell_type": "markdown",
      "metadata": {
        "id": "9udhKLZv9KFy",
        "colab_type": "text"
      },
      "source": [
        "Descend function performs gradient descent\n",
        "\n"
      ]
    },
    {
      "cell_type": "code",
      "metadata": {
        "id": "Z2aIZnsJg_xA",
        "colab_type": "code",
        "colab": {}
      },
      "source": [
        "#Performing Gradient Descent\n",
        "def descend(initial_a, initial_b, x, y, learning_rate, iterations):\n",
        "    a, b, = initial_a, initial_b\n",
        "    for i in range(iterations):\n",
        "        e = error(a, b, x, y)\n",
        "        if i % 100 == 0:\n",
        "            print(\"Error: %4f a, b =%4f, %4f \" %(e, a, b))\n",
        "        a,b = step_gradient(a, b, x, y, learning_rate)\n",
        "        \n",
        "    return a,b"
      ],
      "execution_count": 0,
      "outputs": []
    },
    {
      "cell_type": "code",
      "metadata": {
        "id": "2boclZm7lpQA",
        "colab_type": "code",
        "colab": {}
      },
      "source": [
        "dff = df[[' LDA_02', ' shares']]"
      ],
      "execution_count": 0,
      "outputs": []
    },
    {
      "cell_type": "markdown",
      "metadata": {
        "id": "1XW-MEx18fIL",
        "colab_type": "text"
      },
      "source": [
        "Normalising data to scale down the values between 0 and 1\n",
        "\n"
      ]
    },
    {
      "cell_type": "code",
      "metadata": {
        "id": "QIplSMaimFsQ",
        "colab_type": "code",
        "colab": {}
      },
      "source": [
        "scaler = MinMaxScaler()\n",
        "dff = pd.DataFrame(scaler.fit_transform(dff), columns = dff.columns)\n",
        "df1=(dff-dff.min()) /(dff.max()-dff.min())"
      ],
      "execution_count": 0,
      "outputs": []
    },
    {
      "cell_type": "code",
      "metadata": {
        "id": "sGJNS3jsmOdm",
        "colab_type": "code",
        "colab": {
          "base_uri": "https://localhost:8080/",
          "height": 402
        },
        "outputId": "2e876c66-a1e8-4009-9346-2bd4f4cf812b"
      },
      "source": [
        "df1"
      ],
      "execution_count": 62,
      "outputs": [
        {
          "output_type": "execute_result",
          "data": {
            "text/html": [
              "<div>\n",
              "<style scoped>\n",
              "    .dataframe tbody tr th:only-of-type {\n",
              "        vertical-align: middle;\n",
              "    }\n",
              "\n",
              "    .dataframe tbody tr th {\n",
              "        vertical-align: top;\n",
              "    }\n",
              "\n",
              "    .dataframe thead th {\n",
              "        text-align: right;\n",
              "    }\n",
              "</style>\n",
              "<table border=\"1\" class=\"dataframe\">\n",
              "  <thead>\n",
              "    <tr style=\"text-align: right;\">\n",
              "      <th></th>\n",
              "      <th>LDA_02</th>\n",
              "      <th>shares</th>\n",
              "    </tr>\n",
              "  </thead>\n",
              "  <tbody>\n",
              "    <tr>\n",
              "      <th>0</th>\n",
              "      <td>0.043483</td>\n",
              "      <td>0.0</td>\n",
              "    </tr>\n",
              "    <tr>\n",
              "      <th>1</th>\n",
              "      <td>0.054453</td>\n",
              "      <td>0.0</td>\n",
              "    </tr>\n",
              "    <tr>\n",
              "      <th>2</th>\n",
              "      <td>0.036252</td>\n",
              "      <td>1.0</td>\n",
              "    </tr>\n",
              "    <tr>\n",
              "      <th>3</th>\n",
              "      <td>0.537664</td>\n",
              "      <td>0.0</td>\n",
              "    </tr>\n",
              "    <tr>\n",
              "      <th>4</th>\n",
              "      <td>0.031060</td>\n",
              "      <td>0.0</td>\n",
              "    </tr>\n",
              "    <tr>\n",
              "      <th>...</th>\n",
              "      <td>...</td>\n",
              "      <td>...</td>\n",
              "    </tr>\n",
              "    <tr>\n",
              "      <th>39639</th>\n",
              "      <td>0.164893</td>\n",
              "      <td>1.0</td>\n",
              "    </tr>\n",
              "    <tr>\n",
              "      <th>39640</th>\n",
              "      <td>0.252029</td>\n",
              "      <td>1.0</td>\n",
              "    </tr>\n",
              "    <tr>\n",
              "      <th>39641</th>\n",
              "      <td>0.027399</td>\n",
              "      <td>1.0</td>\n",
              "    </tr>\n",
              "    <tr>\n",
              "      <th>39642</th>\n",
              "      <td>0.913031</td>\n",
              "      <td>0.0</td>\n",
              "    </tr>\n",
              "    <tr>\n",
              "      <th>39643</th>\n",
              "      <td>0.054348</td>\n",
              "      <td>0.0</td>\n",
              "    </tr>\n",
              "  </tbody>\n",
              "</table>\n",
              "<p>39644 rows × 2 columns</p>\n",
              "</div>"
            ],
            "text/plain": [
              "         LDA_02   shares\n",
              "0      0.043483      0.0\n",
              "1      0.054453      0.0\n",
              "2      0.036252      1.0\n",
              "3      0.537664      0.0\n",
              "4      0.031060      0.0\n",
              "...         ...      ...\n",
              "39639  0.164893      1.0\n",
              "39640  0.252029      1.0\n",
              "39641  0.027399      1.0\n",
              "39642  0.913031      0.0\n",
              "39643  0.054348      0.0\n",
              "\n",
              "[39644 rows x 2 columns]"
            ]
          },
          "metadata": {
            "tags": []
          },
          "execution_count": 62
        }
      ]
    },
    {
      "cell_type": "markdown",
      "metadata": {
        "id": "Ve334CnU8QM0",
        "colab_type": "text"
      },
      "source": [
        "Here I am taking 1 feature i.e LDA_02 as x and target(shares) as y.\n",
        "\n"
      ]
    },
    {
      "cell_type": "code",
      "metadata": {
        "id": "G687M48umULy",
        "colab_type": "code",
        "colab": {}
      },
      "source": [
        "x=df1[\" LDA_02\"].values\n",
        "y=df1[\" shares\"].values"
      ],
      "execution_count": 0,
      "outputs": []
    },
    {
      "cell_type": "markdown",
      "metadata": {
        "id": "_FXsrcYJ8F6r",
        "colab_type": "text"
      },
      "source": [
        "Plotting LDA_02 vs The target"
      ]
    },
    {
      "cell_type": "code",
      "metadata": {
        "id": "wC4TNtcUmZd0",
        "colab_type": "code",
        "colab": {
          "base_uri": "https://localhost:8080/",
          "height": 297
        },
        "outputId": "f39fa517-abcc-42c6-b52c-04723d0e5b4f"
      },
      "source": [
        "plt.plot(x,y,'b.')\n",
        "plt.xlabel(' LDA_02')\n",
        "plt.ylabel(' shares')"
      ],
      "execution_count": 64,
      "outputs": [
        {
          "output_type": "execute_result",
          "data": {
            "text/plain": [
              "Text(0, 0.5, ' shares')"
            ]
          },
          "metadata": {
            "tags": []
          },
          "execution_count": 64
        },
        {
          "output_type": "display_data",
          "data": {
            "image/png": "[encoded data removed]",
            "text/plain": [
              "<Figure size 432x288 with 1 Axes>"
            ]
          },
          "metadata": {
            "tags": [],
            "needs_background": "light"
          }
        }
      ]
    },
    {
      "cell_type": "markdown",
      "metadata": {
        "id": "8S6SYfnT9cWK",
        "colab_type": "text"
      },
      "source": [
        "Splitting values into train and test dataset using train_test_split\n",
        "\n"
      ]
    },
    {
      "cell_type": "code",
      "metadata": {
        "id": "wm_-r_uxmfFt",
        "colab_type": "code",
        "colab": {}
      },
      "source": [
        "from sklearn.model_selection import train_test_split\n",
        "x_train, x_test, y_train, y_test = train_test_split(x,y,test_size=0.2)"
      ],
      "execution_count": 0,
      "outputs": []
    },
    {
      "cell_type": "markdown",
      "metadata": {
        "id": "FXIXiDMp9hqv",
        "colab_type": "text"
      },
      "source": [
        "**TRAINING THE DATASET**"
      ]
    },
    {
      "cell_type": "code",
      "metadata": {
        "id": "ZDeckPwtmrYC",
        "colab_type": "code",
        "colab": {
          "base_uri": "https://localhost:8080/",
          "height": 185
        },
        "outputId": "a2b32f10-224b-4058-c85b-790107b418d8"
      },
      "source": [
        "#a, b = 0,0\n",
        "learning_rate = 0.001\n",
        "iterations = 1000\n",
        "\n",
        "final_a, final_b = descend(a, b, x_train, y_train, learning_rate, iterations)"
      ],
      "execution_count": 72,
      "outputs": [
        {
          "output_type": "stream",
          "text": [
            "Error: 0.693147 a, b =0.000000, 0.000000 \n",
            "Error: 4.400056 a, b =-13.226812, 12.238458 \n",
            "Error: 4.400056 a, b =-13.226812, 12.238458 \n",
            "Error: 4.400056 a, b =-13.226812, 12.238458 \n",
            "Error: 4.400056 a, b =-13.226812, 12.238458 \n",
            "Error: 4.400056 a, b =-13.226812, 12.238458 \n",
            "Error: 4.400056 a, b =-13.226812, 12.238458 \n",
            "Error: 4.400056 a, b =-13.226812, 12.238458 \n",
            "Error: 4.400056 a, b =-13.226812, 12.238458 \n",
            "Error: 4.400056 a, b =-13.226812, 12.238458 \n"
          ],
          "name": "stdout"
        }
      ]
    },
    {
      "cell_type": "markdown",
      "metadata": {
        "id": "pP_Pgwaq934k",
        "colab_type": "text"
      },
      "source": [
        "Plotting the sigmoid curve to see whether the curve is fit into the data or not.\n",
        "\n"
      ]
    },
    {
      "cell_type": "code",
      "metadata": {
        "id": "KWu_u-CNm1CJ",
        "colab_type": "code",
        "colab": {
          "base_uri": "https://localhost:8080/",
          "height": 286
        },
        "outputId": "323091e3-e748-4aad-ee63-8d71e4096d96"
      },
      "source": [
        "f = (final_a * x_train) + final_b\n",
        "plt.plot(x_train, y_train, 'g.',    # The data points\n",
        "         x_train, sigmoid(f), 'b.', # The Sigmoid\n",
        "         x_train, f, 'r')           # the line\n",
        "plt.ylim(0,1)"
      ],
      "execution_count": 73,
      "outputs": [
        {
          "output_type": "execute_result",
          "data": {
            "text/plain": [
              "(0.0, 1.0)"
            ]
          },
          "metadata": {
            "tags": []
          },
          "execution_count": 73
        },
        {
          "output_type": "display_data",
          "data": {
            "image/png": "[encoded data removed]",
            "text/plain": [
              "<Figure size 432x288 with 1 Axes>"
            ]
          },
          "metadata": {
            "tags": [],
            "needs_background": "light"
          }
        }
      ]
    },
    {
      "cell_type": "markdown",
      "metadata": {
        "id": "oJYsQuUO987g",
        "colab_type": "text"
      },
      "source": [
        "We observe that the curve is not fit.So,we need to try some other machine learning algorithm."
      ]
    },
    {
      "cell_type": "markdown",
      "metadata": {
        "id": "n0VIf8PH9WHZ",
        "colab_type": "text"
      },
      "source": [
        "Accuracy function determines the accuracy of the model by determining the score no. of times the model has predicted correctly by using a boundary as 0.5."
      ]
    },
    {
      "cell_type": "code",
      "metadata": {
        "id": "bJ0aKPoZooHN",
        "colab_type": "code",
        "colab": {}
      },
      "source": [
        "def accuracy(a,x,b,y):\n",
        "    correct = 0\n",
        "    for i in range(len(x)):\n",
        "        f = (a * x[i]) + b\n",
        "        prediction = sigmoid(f)\n",
        "        if prediction > 0.4:\n",
        "            z = 1\n",
        "        else:\n",
        "            z = 0\n",
        "        if y[i] == z:\n",
        "            correct += 1\n",
        "            \n",
        "    print(\"Accuracy: {}\".format(correct / len(y)))"
      ],
      "execution_count": 0,
      "outputs": []
    },
    {
      "cell_type": "markdown",
      "metadata": {
        "id": "6WwxhCX-9pJF",
        "colab_type": "text"
      },
      "source": [
        "**ACCURACY OF TRAINED DATASET**"
      ]
    },
    {
      "cell_type": "code",
      "metadata": {
        "id": "qY0NuNHuoumW",
        "colab_type": "code",
        "colab": {
          "base_uri": "https://localhost:8080/",
          "height": 34
        },
        "outputId": "a63d7510-1826-43b8-be4d-c93b1bfb68d0"
      },
      "source": [
        "accuracy(final_a, x_train, final_b, y_train)"
      ],
      "execution_count": 75,
      "outputs": [
        {
          "output_type": "stream",
          "text": [
            "Accuracy: 0.5085921488254769\n"
          ],
          "name": "stdout"
        }
      ]
    },
    {
      "cell_type": "markdown",
      "metadata": {
        "id": "wHP6uTMD9uSn",
        "colab_type": "text"
      },
      "source": [
        "**ACCURACY OF TEST DATASET**"
      ]
    },
    {
      "cell_type": "code",
      "metadata": {
        "id": "lRsPPfVFozIi",
        "colab_type": "code",
        "colab": {
          "base_uri": "https://localhost:8080/",
          "height": 34
        },
        "outputId": "648b997a-2c3e-49e0-a88b-798e63823563"
      },
      "source": [
        "accuracy(final_a, x_test, final_b, y_test)"
      ],
      "execution_count": 76,
      "outputs": [
        {
          "output_type": "stream",
          "text": [
            "Accuracy: 0.5099003657459957\n"
          ],
          "name": "stdout"
        }
      ]
    },
    {
      "cell_type": "markdown",
      "metadata": {
        "id": "EfPHGI-1rC0T",
        "colab_type": "text"
      },
      "source": [
        "# **MULTIVARIATE LOGISTIC REGRESSION**"
      ]
    },
    {
      "cell_type": "code",
      "metadata": {
        "id": "-kxSdEGIo77W",
        "colab_type": "code",
        "colab": {}
      },
      "source": [
        "#Sigmoid function\n",
        "def sigmoid(z):\n",
        "  return 1 / (1 + np.exp(-z))"
      ],
      "execution_count": 0,
      "outputs": []
    },
    {
      "cell_type": "code",
      "metadata": {
        "id": "AlMlyGzBr6o8",
        "colab_type": "code",
        "colab": {}
      },
      "source": [
        "#Error function\n",
        "def error(a,b,c,x1,x2,y):\n",
        "  error = 0\n",
        "  m = len(y)\n",
        "  for i in range(m):\n",
        "      f = (a * x1[i]) + (b*x2[i]) +  c\n",
        "      error += -y[i] * np.log(sigmoid(f)) - (1-y[i]) * np.log(1-sigmoid(f))\n",
        "  return error/m"
      ],
      "execution_count": 0,
      "outputs": []
    },
    {
      "cell_type": "code",
      "metadata": {
        "id": "CNMj4sChr9Sj",
        "colab_type": "code",
        "colab": {}
      },
      "source": [
        "#Step gradient function\n",
        "def step_gradient(a,b,c,x1,x2,y,learning_rate):\n",
        "    grad_a = 0\n",
        "    grad_b = 0\n",
        "    grad_c = 0\n",
        "    m = len(y)\n",
        "    for i in range(m):\n",
        "        f = (a * x1[i]) + (b*x2[i]) +  c\n",
        "        grad_a += (sigmoid(f) - y[i]) * x1[i]\n",
        "        grad_b += (sigmoid(f) - y[i]) * x2[i]\n",
        "        grad_c += (sigmoid(f) - y[i]) \n",
        "\n",
        "    a = a - (grad_a * learning_rate)\n",
        "    b = b - (grad_b * learning_rate)\n",
        "    c = c - (grad_c * learning_rate)\n",
        "\n",
        "    return a,b,c"
      ],
      "execution_count": 0,
      "outputs": []
    },
    {
      "cell_type": "code",
      "metadata": {
        "id": "7nVWE1m7r_8i",
        "colab_type": "code",
        "colab": {}
      },
      "source": [
        "#Performing Gradient Descent\n",
        "def descend(init_a, init_b, init_c,x1,x2,y, learning_rate, iterations):\n",
        "    a, b,c = init_a, init_b, init_c\n",
        "    for i in range(iterations):\n",
        "        e = error(a,b,c,x1,x2,y)\n",
        "        if i % 100 == 0:\n",
        "            print(\"Error: %4f a, b =%4f, %4f %4f \" %(e, a, b, c))\n",
        "        a,b,c = step_gradient(a,b,c,x1,x2,y,learning_rate)\n",
        "        \n",
        "    return a,b,c"
      ],
      "execution_count": 0,
      "outputs": []
    },
    {
      "cell_type": "code",
      "metadata": {
        "id": "GGIUzF0XsC3H",
        "colab_type": "code",
        "colab": {}
      },
      "source": [
        "#Accuracy function\n",
        "def accuracy(a,b,c,x1,x2,y,learning_rate):\n",
        "    correct = 0\n",
        "    for i in range(len(y)):\n",
        "        f = (a * x1[i]) + (b*x2[i])  + c\n",
        "        prediction = sigmoid(f)\n",
        "        if prediction > 0.5:\n",
        "            z = 1\n",
        "        else:\n",
        "            z = 0\n",
        "        if y[i] == z:\n",
        "            correct += 1\n",
        "            \n",
        "    print(\"Accuracy: {}\".format(correct / len(y)))"
      ],
      "execution_count": 0,
      "outputs": []
    },
    {
      "cell_type": "markdown",
      "metadata": {
        "id": "DtDZHqS4-b9V",
        "colab_type": "text"
      },
      "source": [
        "We are taking the top 2 highly correlated features."
      ]
    },
    {
      "cell_type": "code",
      "metadata": {
        "id": "ZBDMgCMssFNc",
        "colab_type": "code",
        "colab": {}
      },
      "source": [
        "dff = df[[' LDA_02', ' data_channel_is_world',  ' shares']]"
      ],
      "execution_count": 0,
      "outputs": []
    },
    {
      "cell_type": "code",
      "metadata": {
        "id": "ogPbFpMgsJBk",
        "colab_type": "code",
        "colab": {}
      },
      "source": [
        "scaler = MinMaxScaler()\n",
        "df1=(dff-dff.min()) /(dff.max()-dff.min())\n",
        "df_scaled = scaler.fit_transform(df1)\n"
      ],
      "execution_count": 0,
      "outputs": []
    },
    {
      "cell_type": "code",
      "metadata": {
        "id": "cDdouJ7_tFbB",
        "colab_type": "code",
        "colab": {
          "base_uri": "https://localhost:8080/",
          "height": 134
        },
        "outputId": "92d11f19-6895-43d5-c0f7-08c2695fc435"
      },
      "source": [
        "df_scaled"
      ],
      "execution_count": 136,
      "outputs": [
        {
          "output_type": "execute_result",
          "data": {
            "text/plain": [
              "array([[0.04348339, 0.        , 0.        ],\n",
              "       [0.0544525 , 0.        , 0.        ],\n",
              "       [0.03625158, 0.        , 1.        ],\n",
              "       ...,\n",
              "       [0.02739931, 0.        , 1.        ],\n",
              "       [0.91303053, 1.        , 0.        ],\n",
              "       [0.05434833, 0.        , 0.        ]])"
            ]
          },
          "metadata": {
            "tags": []
          },
          "execution_count": 136
        }
      ]
    },
    {
      "cell_type": "code",
      "metadata": {
        "id": "9W57aTKcsZtI",
        "colab_type": "code",
        "colab": {}
      },
      "source": [
        "x1 = df_scaled[:,0]\n",
        "x2 = df_scaled[:,1]\n",
        "y = df_scaled[:,2]"
      ],
      "execution_count": 0,
      "outputs": []
    },
    {
      "cell_type": "code",
      "metadata": {
        "id": "m7IInKYPsjDv",
        "colab_type": "code",
        "colab": {
          "base_uri": "https://localhost:8080/",
          "height": 50
        },
        "outputId": "1ad0d8b4-d9ad-4848-fc7a-d9f9c2f9f961"
      },
      "source": [
        "x1"
      ],
      "execution_count": 138,
      "outputs": [
        {
          "output_type": "execute_result",
          "data": {
            "text/plain": [
              "array([0.04348339, 0.0544525 , 0.03625158, ..., 0.02739931, 0.91303053,\n",
              "       0.05434833])"
            ]
          },
          "metadata": {
            "tags": []
          },
          "execution_count": 138
        }
      ]
    },
    {
      "cell_type": "markdown",
      "metadata": {
        "id": "sWLg6HUG-pCe",
        "colab_type": "text"
      },
      "source": [
        "Splitting values into train and test dataset using train_test_split\n",
        "\n"
      ]
    },
    {
      "cell_type": "code",
      "metadata": {
        "id": "d6oI4ANEtPVv",
        "colab_type": "code",
        "colab": {}
      },
      "source": [
        "x1_train, x1_test, x2_train, x2_test, y_train, y_test = train_test_split(x1,x2,y,test_size=0.2)"
      ],
      "execution_count": 0,
      "outputs": []
    },
    {
      "cell_type": "markdown",
      "metadata": {
        "id": "luzCLVdj-sPx",
        "colab_type": "text"
      },
      "source": [
        "Visualizing the features"
      ]
    },
    {
      "cell_type": "code",
      "metadata": {
        "id": "ZY_k8oc6urgi",
        "colab_type": "code",
        "colab": {
          "base_uri": "https://localhost:8080/",
          "height": 248
        },
        "outputId": "519245d5-1b9c-4a1e-9049-0ae1ec04d12c"
      },
      "source": [
        "from mpl_toolkits.mplot3d import Axes3D\n",
        "import matplotlib.pyplot as plt\n",
        "import numpy as np\n",
        "\n",
        "fig = plt.figure()\n",
        "ax = fig.add_subplot(111, projection='3d')\n",
        "\n",
        "x=dff[\" LDA_02\"]\n",
        "y=dff[\" data_channel_is_world\"]\n",
        "z=dff[' shares']\n",
        "\n",
        "img = ax.scatter(x, y, z)\n",
        "plt.show()"
      ],
      "execution_count": 140,
      "outputs": [
        {
          "output_type": "display_data",
          "data": {
            "image/png": "[encoded data removed]",
            "text/plain": [
              "<Figure size 432x288 with 1 Axes>"
            ]
          },
          "metadata": {
            "tags": [],
            "needs_background": "light"
          }
        }
      ]
    },
    {
      "cell_type": "markdown",
      "metadata": {
        "id": "6YPFSHth-v9B",
        "colab_type": "text"
      },
      "source": [
        "Training the dataset"
      ]
    },
    {
      "cell_type": "code",
      "metadata": {
        "id": "wADINWnOu5Bz",
        "colab_type": "code",
        "colab": {
          "base_uri": "https://localhost:8080/",
          "height": 202
        },
        "outputId": "0c3d9b7f-789b-4393-e5d6-687d0faec3b8"
      },
      "source": [
        "learning_rate = 0.001\n",
        "iterations = 1000\n",
        "a=0\n",
        "b=0\n",
        "c=0\n",
        "\n",
        "descend(a,b,c,x1,x2,y, learning_rate, iterations)"
      ],
      "execution_count": 141,
      "outputs": [
        {
          "output_type": "stream",
          "text": [
            "Error: 0.693147 a, b =0.000000, 0.000000 0.000000 \n",
            "Error: 0.000468 a, b =5.414050, 13.174839 -9.132455 \n",
            "Error: 0.000337 a, b =5.262834, 13.799123 -9.449305 \n",
            "Error: 0.000264 a, b =5.172135, 14.284149 -9.659184 \n",
            "Error: 0.000217 a, b =5.105770, 14.674741 -9.826636 \n",
            "Error: 0.000185 a, b =5.053775, 15.001229 -9.967448 \n",
            "Error: 0.000161 a, b =5.011388, 15.281677 -10.089275 \n",
            "Error: 0.000142 a, b =4.975864, 15.527490 -10.196753 \n",
            "Error: 0.000128 a, b =4.945466, 15.746308 -10.292969 \n",
            "Error: 0.000116 a, b =4.919025, 15.943488 -10.380098 \n"
          ],
          "name": "stdout"
        },
        {
          "output_type": "execute_result",
          "data": {
            "text/plain": [
              "(4.895721641293747, 16.12293604483168, -10.459733545060246)"
            ]
          },
          "metadata": {
            "tags": []
          },
          "execution_count": 141
        }
      ]
    },
    {
      "cell_type": "markdown",
      "metadata": {
        "id": "PnTGI1lL-3kx",
        "colab_type": "text"
      },
      "source": [
        "**ACCURACY OF TRAINED DATASET**"
      ]
    },
    {
      "cell_type": "code",
      "metadata": {
        "id": "MugnfG1uu_c3",
        "colab_type": "code",
        "colab": {
          "base_uri": "https://localhost:8080/",
          "height": 34
        },
        "outputId": "171eac5d-779e-41fc-b78e-9ab25b10a302"
      },
      "source": [
        "accuracy(a,b,c,x1_train,x2_train,y_train,learning_rate)"
      ],
      "execution_count": 142,
      "outputs": [
        {
          "output_type": "stream",
          "text": [
            "Accuracy: 0.5055021283304431\n"
          ],
          "name": "stdout"
        }
      ]
    },
    {
      "cell_type": "markdown",
      "metadata": {
        "id": "3f6MvPKP--n5",
        "colab_type": "text"
      },
      "source": [
        "**ACCURACY OF TEST DATASET**"
      ]
    },
    {
      "cell_type": "code",
      "metadata": {
        "id": "64vrfQul7WBD",
        "colab_type": "code",
        "colab": {
          "base_uri": "https://localhost:8080/",
          "height": 34
        },
        "outputId": "ab07df1d-ae86-4812-d2bf-b9a72424218e"
      },
      "source": [
        "accuracy(a,b,c,x1_test,x2_test,y_test,learning_rate)"
      ],
      "execution_count": 143,
      "outputs": [
        {
          "output_type": "stream",
          "text": [
            "Accuracy: 0.5107832009080591\n"
          ],
          "name": "stdout"
        }
      ]
    }
  ]
}